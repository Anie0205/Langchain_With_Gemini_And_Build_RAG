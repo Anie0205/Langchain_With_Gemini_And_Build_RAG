{
  "cells": [
    {
      "cell_type": "markdown",
      "metadata": {
        "id": "view-in-github",
        "colab_type": "text"
      },
      "source": [
        "<a href=\"https://colab.research.google.com/github/Anie0205/Langchain_With_Gemini_And_Build_RAG/blob/main/Langchain_With_Gemini_And_Build_RAG.ipynb\" target=\"_parent\"><img src=\"https://colab.research.google.com/assets/colab-badge.svg\" alt=\"Open In Colab\"/></a>"
      ]
    },
    {
      "cell_type": "code",
      "execution_count": 40,
      "metadata": {
        "id": "wgALz5M7I9dQ",
        "scrolled": true
      },
      "outputs": [],
      "source": [
        "! pip install -q --upgrade google-generativeai langchain-google-genai chromadb pypdf\n"
      ]
    },
    {
      "cell_type": "code",
      "execution_count": 41,
      "metadata": {
        "id": "ELCq2M4XJ467"
      },
      "outputs": [],
      "source": [
        "from IPython.display import display\n",
        "from IPython.display import Markdown\n",
        "import textwrap\n",
        "\n",
        "\n",
        "def to_markdown(text):\n",
        "  text = text.replace('•', '  *')\n",
        "  return Markdown(textwrap.indent(text, '> ', predicate=lambda _: True))"
      ]
    },
    {
      "cell_type": "code",
      "execution_count": 42,
      "metadata": {
        "id": "CHCjBuPHJ-JU"
      },
      "outputs": [],
      "source": [
        "import google.generativeai as genai\n",
        "from google.colab import userdata"
      ]
    },
    {
      "cell_type": "code",
      "execution_count": 43,
      "metadata": {
        "id": "1cb7x-g7KBBw"
      },
      "outputs": [],
      "source": [
        "import os\n",
        "userdata = {\n",
        "    'GOOGLE_API_KEY': '*********'\n",
        "}\n",
        "GOOGLE_API_KEY=userdata.get('GOOGLE_API_KEY')\n",
        "genai.configure(api_key=GOOGLE_API_KEY)"
      ]
    },
    {
      "cell_type": "markdown",
      "metadata": {
        "id": "3NOFOt74X2Gd"
      },
      "source": [
        "### Text Generation"
      ]
    },
    {
      "cell_type": "code",
      "execution_count": 44,
      "metadata": {
        "colab": {
          "base_uri": "https://localhost:8080/"
        },
        "id": "KG_3KsGRKDYU",
        "outputId": "84911a0c-7aec-4137-b8f3-c1f0fa40274c"
      },
      "outputs": [
        {
          "output_type": "execute_result",
          "data": {
            "text/plain": [
              " genai.GenerativeModel(\n",
              "   model_name='models/gemini-pro',\n",
              "   generation_config={}.\n",
              "   safety_settings={}\n",
              ")"
            ]
          },
          "metadata": {},
          "execution_count": 44
        }
      ],
      "source": [
        "model = genai.GenerativeModel(model_name = \"gemini-pro\")\n",
        "model"
      ]
    },
    {
      "cell_type": "code",
      "execution_count": 45,
      "metadata": {
        "id": "R-2GbIa-KaUb"
      },
      "outputs": [],
      "source": [
        "response = model.generate_content(\"Who was Osamu Dazai?\")"
      ]
    },
    {
      "cell_type": "code",
      "execution_count": 46,
      "metadata": {
        "colab": {
          "base_uri": "https://localhost:8080/",
          "height": 184
        },
        "id": "i9TTvRUfKmBg",
        "outputId": "b2766abf-2015-4715-fc48-7987ebb18ada"
      },
      "outputs": [
        {
          "output_type": "execute_result",
          "data": {
            "text/plain": [
              "<IPython.core.display.Markdown object>"
            ],
            "text/markdown": "> Osamu Dazai (1909-1948) was a Japanese novelist, short story writer, and essayist. He is considered one of the foremost writers of 20th-century Japanese literature. Dazai was born in Kanagi, Aomori Prefecture, Japan. He was the eleventh of fourteen children in a wealthy family. Dazai's father was a government official, and his mother was a devout Buddhist. Dazai began writing at an early age, and he published his first novel, The Captain's Daughter, in 1933. Dazai's writing is often characterized by its dark and pessimistic tone. He often wrote about themes of alienation, despair, and suicide. Dazai himself struggled with depression and addiction throughout his life, and he attempted suicide several times. Dazai's most famous novel, No Longer Human, was published in 1948. The novel is a semi-autobiographical account of the life of a young man who struggles with depression and addiction. No Longer Human was a critical and commercial success, and it is considered one of Dazai's masterpieces. Dazai died by suicide in 1948, at the age of 39. He is buried in the temple of Zuisen-ji in Mitaka, Tokyo."
          },
          "metadata": {},
          "execution_count": 46
        }
      ],
      "source": [
        "to_markdown(response.text)"
      ]
    },
    {
      "cell_type": "markdown",
      "metadata": {
        "id": "-TbsjM7hK6PR"
      },
      "source": [
        "### Use LangChain to Access Gemini API"
      ]
    },
    {
      "cell_type": "code",
      "execution_count": 47,
      "metadata": {
        "id": "WqdODsdLK8li"
      },
      "outputs": [],
      "source": [
        "from langchain_google_genai import ChatGoogleGenerativeAI\n"
      ]
    },
    {
      "cell_type": "code",
      "execution_count": 48,
      "metadata": {
        "id": "vknP_oOWK-k7"
      },
      "outputs": [],
      "source": [
        "llm = ChatGoogleGenerativeAI(model=\"gemini-pro\",google_api_key=GOOGLE_API_KEY)"
      ]
    },
    {
      "cell_type": "code",
      "execution_count": 69,
      "metadata": {
        "id": "hvY2YkFoLDO7"
      },
      "outputs": [],
      "source": [
        "result = llm.invoke(\"Who was Emily Bronte?\")\n"
      ]
    },
    {
      "cell_type": "code",
      "execution_count": 70,
      "metadata": {
        "colab": {
          "base_uri": "https://localhost:8080/",
          "height": 103
        },
        "id": "ar8KNtZILE47",
        "outputId": "b23dddc4-70e0-48f3-ce29-da61394ebee2"
      },
      "outputs": [
        {
          "output_type": "execute_result",
          "data": {
            "text/plain": [
              "<IPython.core.display.Markdown object>"
            ],
            "text/markdown": "> Emily Jane Brontë (30 July 1818 – 19 December 1848) was an English novelist and poet who is best known for her only novel, Wuthering Heights, now considered a classic of English literature.\n> \n> She was the younger sister of Charlotte Brontë and Anne Brontë, who are also well-known novelists."
          },
          "metadata": {},
          "execution_count": 70
        }
      ],
      "source": [
        "to_markdown(result.content)"
      ]
    },
    {
      "cell_type": "markdown",
      "metadata": {
        "id": "aVhA3f3GLlQZ"
      },
      "source": [
        "## Chat with Documents using RAG (Retreival Augment Generation)"
      ]
    },
    {
      "cell_type": "code",
      "source": [
        "!pip install langchain"
      ],
      "metadata": {
        "colab": {
          "base_uri": "https://localhost:8080/"
        },
        "id": "SGTe0gH7RdGe",
        "outputId": "621b7a5f-ec39-49e2-9c90-00d9055d3d33"
      },
      "execution_count": 51,
      "outputs": [
        {
          "output_type": "stream",
          "name": "stdout",
          "text": [
            "Requirement already satisfied: langchain in /usr/local/lib/python3.10/dist-packages (0.1.12)\n",
            "Requirement already satisfied: PyYAML>=5.3 in /usr/local/lib/python3.10/dist-packages (from langchain) (6.0.1)\n",
            "Requirement already satisfied: SQLAlchemy<3,>=1.4 in /usr/local/lib/python3.10/dist-packages (from langchain) (2.0.28)\n",
            "Requirement already satisfied: aiohttp<4.0.0,>=3.8.3 in /usr/local/lib/python3.10/dist-packages (from langchain) (3.9.3)\n",
            "Requirement already satisfied: async-timeout<5.0.0,>=4.0.0 in /usr/local/lib/python3.10/dist-packages (from langchain) (4.0.3)\n",
            "Requirement already satisfied: dataclasses-json<0.7,>=0.5.7 in /usr/local/lib/python3.10/dist-packages (from langchain) (0.6.4)\n",
            "Requirement already satisfied: jsonpatch<2.0,>=1.33 in /usr/local/lib/python3.10/dist-packages (from langchain) (1.33)\n",
            "Requirement already satisfied: langchain-community<0.1,>=0.0.28 in /usr/local/lib/python3.10/dist-packages (from langchain) (0.0.28)\n",
            "Requirement already satisfied: langchain-core<0.2.0,>=0.1.31 in /usr/local/lib/python3.10/dist-packages (from langchain) (0.1.31)\n",
            "Requirement already satisfied: langchain-text-splitters<0.1,>=0.0.1 in /usr/local/lib/python3.10/dist-packages (from langchain) (0.0.1)\n",
            "Requirement already satisfied: langsmith<0.2.0,>=0.1.17 in /usr/local/lib/python3.10/dist-packages (from langchain) (0.1.24)\n",
            "Requirement already satisfied: numpy<2,>=1 in /usr/local/lib/python3.10/dist-packages (from langchain) (1.25.2)\n",
            "Requirement already satisfied: pydantic<3,>=1 in /usr/local/lib/python3.10/dist-packages (from langchain) (2.6.3)\n",
            "Requirement already satisfied: requests<3,>=2 in /usr/local/lib/python3.10/dist-packages (from langchain) (2.31.0)\n",
            "Requirement already satisfied: tenacity<9.0.0,>=8.1.0 in /usr/local/lib/python3.10/dist-packages (from langchain) (8.2.3)\n",
            "Requirement already satisfied: aiosignal>=1.1.2 in /usr/local/lib/python3.10/dist-packages (from aiohttp<4.0.0,>=3.8.3->langchain) (1.3.1)\n",
            "Requirement already satisfied: attrs>=17.3.0 in /usr/local/lib/python3.10/dist-packages (from aiohttp<4.0.0,>=3.8.3->langchain) (23.2.0)\n",
            "Requirement already satisfied: frozenlist>=1.1.1 in /usr/local/lib/python3.10/dist-packages (from aiohttp<4.0.0,>=3.8.3->langchain) (1.4.1)\n",
            "Requirement already satisfied: multidict<7.0,>=4.5 in /usr/local/lib/python3.10/dist-packages (from aiohttp<4.0.0,>=3.8.3->langchain) (6.0.5)\n",
            "Requirement already satisfied: yarl<2.0,>=1.0 in /usr/local/lib/python3.10/dist-packages (from aiohttp<4.0.0,>=3.8.3->langchain) (1.9.4)\n",
            "Requirement already satisfied: marshmallow<4.0.0,>=3.18.0 in /usr/local/lib/python3.10/dist-packages (from dataclasses-json<0.7,>=0.5.7->langchain) (3.21.1)\n",
            "Requirement already satisfied: typing-inspect<1,>=0.4.0 in /usr/local/lib/python3.10/dist-packages (from dataclasses-json<0.7,>=0.5.7->langchain) (0.9.0)\n",
            "Requirement already satisfied: jsonpointer>=1.9 in /usr/local/lib/python3.10/dist-packages (from jsonpatch<2.0,>=1.33->langchain) (2.4)\n",
            "Requirement already satisfied: anyio<5,>=3 in /usr/local/lib/python3.10/dist-packages (from langchain-core<0.2.0,>=0.1.31->langchain) (3.7.1)\n",
            "Requirement already satisfied: packaging<24.0,>=23.2 in /usr/local/lib/python3.10/dist-packages (from langchain-core<0.2.0,>=0.1.31->langchain) (23.2)\n",
            "Requirement already satisfied: orjson<4.0.0,>=3.9.14 in /usr/local/lib/python3.10/dist-packages (from langsmith<0.2.0,>=0.1.17->langchain) (3.9.15)\n",
            "Requirement already satisfied: annotated-types>=0.4.0 in /usr/local/lib/python3.10/dist-packages (from pydantic<3,>=1->langchain) (0.6.0)\n",
            "Requirement already satisfied: pydantic-core==2.16.3 in /usr/local/lib/python3.10/dist-packages (from pydantic<3,>=1->langchain) (2.16.3)\n",
            "Requirement already satisfied: typing-extensions>=4.6.1 in /usr/local/lib/python3.10/dist-packages (from pydantic<3,>=1->langchain) (4.10.0)\n",
            "Requirement already satisfied: charset-normalizer<4,>=2 in /usr/local/lib/python3.10/dist-packages (from requests<3,>=2->langchain) (3.3.2)\n",
            "Requirement already satisfied: idna<4,>=2.5 in /usr/local/lib/python3.10/dist-packages (from requests<3,>=2->langchain) (3.6)\n",
            "Requirement already satisfied: urllib3<3,>=1.21.1 in /usr/local/lib/python3.10/dist-packages (from requests<3,>=2->langchain) (2.0.7)\n",
            "Requirement already satisfied: certifi>=2017.4.17 in /usr/local/lib/python3.10/dist-packages (from requests<3,>=2->langchain) (2024.2.2)\n",
            "Requirement already satisfied: greenlet!=0.4.17 in /usr/local/lib/python3.10/dist-packages (from SQLAlchemy<3,>=1.4->langchain) (3.0.3)\n",
            "Requirement already satisfied: sniffio>=1.1 in /usr/local/lib/python3.10/dist-packages (from anyio<5,>=3->langchain-core<0.2.0,>=0.1.31->langchain) (1.3.1)\n",
            "Requirement already satisfied: exceptiongroup in /usr/local/lib/python3.10/dist-packages (from anyio<5,>=3->langchain-core<0.2.0,>=0.1.31->langchain) (1.2.0)\n",
            "Requirement already satisfied: mypy-extensions>=0.3.0 in /usr/local/lib/python3.10/dist-packages (from typing-inspect<1,>=0.4.0->dataclasses-json<0.7,>=0.5.7->langchain) (1.0.0)\n"
          ]
        }
      ]
    },
    {
      "cell_type": "code",
      "execution_count": 52,
      "metadata": {
        "id": "7EjS_0qMLwyb"
      },
      "outputs": [],
      "source": [
        "import urllib\n",
        "import warnings\n",
        "from pathlib import Path as p\n",
        "from pprint import pprint\n",
        "\n",
        "import pandas as pd\n",
        "from langchain import PromptTemplate\n",
        "from langchain.chains.question_answering import load_qa_chain\n",
        "from langchain.document_loaders import PyPDFLoader\n",
        "from langchain.text_splitter import RecursiveCharacterTextSplitter\n",
        "from langchain.vectorstores import Chroma\n",
        "from langchain.chains import RetrievalQA\n",
        "\n",
        "\n",
        "\n",
        "warnings.filterwarnings(\"ignore\")\n",
        "# restart python kernal if issues with langchain import."
      ]
    },
    {
      "cell_type": "code",
      "execution_count": 53,
      "metadata": {
        "id": "oBDSBBNRNi8x"
      },
      "outputs": [],
      "source": [
        "from langchain_google_genai import ChatGoogleGenerativeAI\n"
      ]
    },
    {
      "cell_type": "code",
      "execution_count": 54,
      "metadata": {
        "id": "HXXP0LCKN9pD"
      },
      "outputs": [],
      "source": [
        "model = ChatGoogleGenerativeAI(model=\"gemini-pro\",google_api_key=GOOGLE_API_KEY,\n",
        "                             temperature=0.2,convert_system_message_to_human=True)\n"
      ]
    },
    {
      "cell_type": "markdown",
      "metadata": {
        "id": "QQ7OlzvWSRE1"
      },
      "source": [
        "### RAG Pipeline: Embedding + Gemini (LLM)"
      ]
    },
    {
      "cell_type": "code",
      "source": [
        "pdf_loader = PyPDFLoader(\"/content/The_Art_Of_War.pdf\")\n",
        "pages = pdf_loader.load_and_split()\n",
        "print(pages[0].page_content)"
      ],
      "metadata": {
        "colab": {
          "base_uri": "https://localhost:8080/"
        },
        "id": "oU2YvcLsmxzT",
        "outputId": "d5264869-e059-4394-9a1c-4d6782e21384"
      },
      "execution_count": 55,
      "outputs": [
        {
          "output_type": "stream",
          "name": "stdout",
          "text": [
            "/G53/G75/G6E/G20/G54/G7A/G75/G20/G6F/G6E/G20/G74/G68/G65/G20\n",
            "/G41/G72/G74/G20/G6F/G66/G20/G57/G61/G72\n",
            "THE OLDEST MILITARY TREATISE IN THE WORLD\n",
            "/G41/G6C/G6C/G61/G6E/G64/G61/G6C/G65 /G4F/G6E/G6C/G69/G6E/G65\n",
            "/G50/G75/G62/G6C/G69/G73/G68/G69/G6E/G67/G43/G6C/G61/G73/G73/G69/G63/G20/G45/G74/G65/G78/G74/G73/G20/G53/G65/G72/G69/G65/G73\n"
          ]
        }
      ]
    },
    {
      "cell_type": "code",
      "execution_count": 56,
      "metadata": {
        "id": "xCLmdnHYdoVx"
      },
      "outputs": [],
      "source": [
        "from langchain_google_genai import GoogleGenerativeAIEmbeddings"
      ]
    },
    {
      "cell_type": "code",
      "execution_count": 57,
      "metadata": {
        "id": "5VCQ2XiUSTOl"
      },
      "outputs": [],
      "source": [
        "text_splitter = RecursiveCharacterTextSplitter(chunk_size=10000, chunk_overlap=1000)\n",
        "context = \"\\n\\n\".join(str(p.page_content) for p in pages)\n",
        "texts = text_splitter.split_text(context)"
      ]
    },
    {
      "cell_type": "code",
      "execution_count": 58,
      "metadata": {
        "id": "oenB_PKkSpr_"
      },
      "outputs": [],
      "source": [
        "embeddings = GoogleGenerativeAIEmbeddings(model=\"models/embedding-001\",google_api_key=GOOGLE_API_KEY)"
      ]
    },
    {
      "cell_type": "code",
      "execution_count": 59,
      "metadata": {
        "id": "zRDgzSjsSZtG"
      },
      "outputs": [],
      "source": [
        "vector_index = Chroma.from_texts(texts, embeddings).as_retriever(search_kwargs={\"k\":5})\n"
      ]
    },
    {
      "cell_type": "code",
      "execution_count": 60,
      "metadata": {
        "id": "a3CrM0l3Hc__"
      },
      "outputs": [],
      "source": [
        "qa_chain = RetrievalQA.from_chain_type(\n",
        "    model,\n",
        "    retriever=vector_index,\n",
        "    return_source_documents=True\n",
        "\n",
        ")"
      ]
    },
    {
      "cell_type": "code",
      "execution_count": 61,
      "metadata": {
        "colab": {
          "base_uri": "https://localhost:8080/",
          "height": 35
        },
        "id": "C683CMhDHtA8",
        "outputId": "482e4234-150f-43ce-cc20-26f66c538457"
      },
      "outputs": [
        {
          "output_type": "execute_result",
          "data": {
            "text/plain": [
              "'This book is about the art of war.'"
            ],
            "application/vnd.google.colaboratory.intrinsic+json": {
              "type": "string"
            }
          },
          "metadata": {},
          "execution_count": 61
        }
      ],
      "source": [
        "question = \"What is this book about?\"\n",
        "result = qa_chain({\"query\": question})\n",
        "result[\"result\"]"
      ]
    },
    {
      "cell_type": "code",
      "execution_count": 62,
      "metadata": {
        "colab": {
          "base_uri": "https://localhost:8080/",
          "height": 46
        },
        "id": "gR9NB2OLIp7I",
        "outputId": "bec83a2f-5511-4586-f726-d879200b7136"
      },
      "outputs": [
        {
          "output_type": "execute_result",
          "data": {
            "text/plain": [
              "<IPython.core.display.Markdown object>"
            ],
            "text/markdown": "This book is about the art of war."
          },
          "metadata": {},
          "execution_count": 62
        }
      ],
      "source": [
        "Markdown(result[\"result\"])"
      ]
    },
    {
      "cell_type": "code",
      "execution_count": 63,
      "metadata": {
        "colab": {
          "base_uri": "https://localhost:8080/"
        },
        "id": "_JExbG1VNcDZ",
        "outputId": "b24e6799-7790-4872-a717-c87166109b20"
      },
      "outputs": [
        {
          "output_type": "execute_result",
          "data": {
            "text/plain": [
              "[Document(page_content=\"6. Knowledge of the enemy’s dispositions can only be\\nobtained from other men.\\n7. Hence the use of spies, of whom there are five class-\\nes: \\n(1) Local spies; (2) inward spies; (3) converted spies;(4) doomed spies; (5) surviving spies.\\n8.When these five kinds of spy are all at work, none\\ncan discover the secret system. This is called “divinemanipulation of the threads.” It is the sovereign’s mostprecious faculty.\\n9. Having local spies means employing the services of\\nthe inhabitants of a district.\\n10. Having inward spies, making use of officials of the\\nenemy.\\n11. Having converted spies, getting hold of the enemy’s\\nspies and using them for our own purposes.\\n12. Having doomed spies, doing certain things openly\\nfor purposes of deception, and allowing our spies toknow of them and report them to the enemy.\\n13. Surviving spies, finally, are those who bring back\\nnews from the enemy’s camp.\\n60\\n/G53/G75/G6E/G20/G54/G7A/G75/G20/G6F/G6E/G20/G74/G68/G65/G20/G41/G72/G74/G20/G6F/G66/G20/G57/G61/G72\\n\\n14. Hence it is that which none in the whole army are\\nmore intimate relations to be maintained than withspies. None should be more liberally rewarded. In noother business should greater secrecy be preserved.\\n15. Spies cannot be usefully employed without a cer-\\ntain intuitive sagacity.\\n16. They cannot be properly managed without benevo-\\nlence and straightforwardness.\\n17. Without subtle ingenuity of mind, one cannot make\\ncertain of the truth of their reports.\\n18. Be subtle! be subtle! and use your spies for every\\nkind of business.\\n19. If a secret piece of news is divulged by a spy before\\nthe time is ripe, he must be put to death together withthe man to whom the secret was told.\\n20. Whether the object be to crush an army, to storm a\\ncity, or to assassinate an individual, it is always neces-sary to begin by finding out the names of the atten-dants, the aides-de-camp, and door-keepers and sen-tries of the general in command. Our spies must becommissioned to ascertain these.\\n21. The enemy’s spies who have come to spy on us\\nmust be sought out, tempted with bribes, led away andcomfortably housed. Thus they will become convertedspies and available for our service.\\n61\\n/G53/G75/G6E/G20/G54/G7A/G75/G20/G6F/G6E/G20/G74/G68/G65/G20/G41/G72/G74/G20/G6F/G66/G20/G57/G61/G72\\n\\n22. It is through the information brought by the con-\\nverted spy that we are able to acquire and employ localand inward spies.\\n23. It is owing to his information, again, that we can\\ncause the doomed spy to carry false tidings to theenemy.\\n24. Lastly, it is by his information that the surviving\\nspy can be used on appointed occasions.\\n25. The end and aim of spying in all its five varieties is\\nknowledge of the enemy; and this knowledge can onlybe derived, in the first instance, from the converted spy.Hence it is essential that the converted spy be treatedwith the utmost liberality.\\n26. Of old, the rise of the Yin dynasty was due to I Chih\\nwho had served under the Hsia.  Likewise, the ris of theChou dynasty was due to Lu Ya who had served underthe Yin.\\n27. Hence it is only the enlightened ruler and the wise\\ngeneral who will use the highest intelligence of thearmy for purposes of spying and thereby they achievegreat results. Spies are a most important element inwater, because on them depends an army's ability tomove.\\n62\\n/G53/G75/G6E/G20/G54/G7A/G75/G20/G6F/G6E/G20/G74/G68/G65/G20/G41/G72/G74/G20/G6F/G66/G20/G57/G61/G72\\n\\n/G77/G77/G77/G77/G77/G77/G2E/G2E/G61/G61/G6C/G6C/G6C/G6C/G61/G61/G6E/G6E/G64/G64/G61/G61/G6C/G6C/G65/G65/G2E/G2E/G63/G63/G6F/G6F/G2E/G2E/G75/G75/G6B/G6B/G43/G4C/G41/G53/G53/G49/G43/G20/G45/G54/G45/G58/G54/G53/G20/G53/G45/G52/G49/G45/G53\\n/G41/G6C/G6C/G61/G6E/G64/G61/G6C/G65 /G4F/G6E/G6C/G69/G6E/G65\\n/G50/G75/G62/G6C/G69/G73/G68/G69/G6E/G67\\nEbooks offer a wonderful opportunity for authors, stu-\\ndents and institutions alike. By using new technologyand maintaining strict editorial standards throughout,Allandale Online Publishing is able to offer intellectu-ally rigorous publications that are accessible 24 hoursa day. The benefits include:\\n· specialist editors drawn from a pool of experienced\\nacademics· a competitive pricing policy· an ISBN for every publication· password-protection to prevent copyright abuse andplagiarism· ebooks available in multiple formats\\nCompile your own searchable elibrary by using\\nAllandale PDF ebooks and enjoy all the benefits ofelectronic text.\"),\n",
              " Document(page_content=\"6. Knowledge of the enemy’s dispositions can only be\\nobtained from other men.\\n7. Hence the use of spies, of whom there are five class-\\nes: \\n(1) Local spies; (2) inward spies; (3) converted spies;(4) doomed spies; (5) surviving spies.\\n8.When these five kinds of spy are all at work, none\\ncan discover the secret system. This is called “divinemanipulation of the threads.” It is the sovereign’s mostprecious faculty.\\n9. Having local spies means employing the services of\\nthe inhabitants of a district.\\n10. Having inward spies, making use of officials of the\\nenemy.\\n11. Having converted spies, getting hold of the enemy’s\\nspies and using them for our own purposes.\\n12. Having doomed spies, doing certain things openly\\nfor purposes of deception, and allowing our spies toknow of them and report them to the enemy.\\n13. Surviving spies, finally, are those who bring back\\nnews from the enemy’s camp.\\n60\\n/G53/G75/G6E/G20/G54/G7A/G75/G20/G6F/G6E/G20/G74/G68/G65/G20/G41/G72/G74/G20/G6F/G66/G20/G57/G61/G72\\n\\n14. Hence it is that which none in the whole army are\\nmore intimate relations to be maintained than withspies. None should be more liberally rewarded. In noother business should greater secrecy be preserved.\\n15. Spies cannot be usefully employed without a cer-\\ntain intuitive sagacity.\\n16. They cannot be properly managed without benevo-\\nlence and straightforwardness.\\n17. Without subtle ingenuity of mind, one cannot make\\ncertain of the truth of their reports.\\n18. Be subtle! be subtle! and use your spies for every\\nkind of business.\\n19. If a secret piece of news is divulged by a spy before\\nthe time is ripe, he must be put to death together withthe man to whom the secret was told.\\n20. Whether the object be to crush an army, to storm a\\ncity, or to assassinate an individual, it is always neces-sary to begin by finding out the names of the atten-dants, the aides-de-camp, and door-keepers and sen-tries of the general in command. Our spies must becommissioned to ascertain these.\\n21. The enemy’s spies who have come to spy on us\\nmust be sought out, tempted with bribes, led away andcomfortably housed. Thus they will become convertedspies and available for our service.\\n61\\n/G53/G75/G6E/G20/G54/G7A/G75/G20/G6F/G6E/G20/G74/G68/G65/G20/G41/G72/G74/G20/G6F/G66/G20/G57/G61/G72\\n\\n22. It is through the information brought by the con-\\nverted spy that we are able to acquire and employ localand inward spies.\\n23. It is owing to his information, again, that we can\\ncause the doomed spy to carry false tidings to theenemy.\\n24. Lastly, it is by his information that the surviving\\nspy can be used on appointed occasions.\\n25. The end and aim of spying in all its five varieties is\\nknowledge of the enemy; and this knowledge can onlybe derived, in the first instance, from the converted spy.Hence it is essential that the converted spy be treatedwith the utmost liberality.\\n26. Of old, the rise of the Yin dynasty was due to I Chih\\nwho had served under the Hsia.  Likewise, the ris of theChou dynasty was due to Lu Ya who had served underthe Yin.\\n27. Hence it is only the enlightened ruler and the wise\\ngeneral who will use the highest intelligence of thearmy for purposes of spying and thereby they achievegreat results. Spies are a most important element inwater, because on them depends an army's ability tomove.\\n62\\n/G53/G75/G6E/G20/G54/G7A/G75/G20/G6F/G6E/G20/G74/G68/G65/G20/G41/G72/G74/G20/G6F/G66/G20/G57/G61/G72\\n\\n/G77/G77/G77/G77/G77/G77/G2E/G2E/G61/G61/G6C/G6C/G6C/G6C/G61/G61/G6E/G6E/G64/G64/G61/G61/G6C/G6C/G65/G65/G2E/G2E/G63/G63/G6F/G6F/G2E/G2E/G75/G75/G6B/G6B/G43/G4C/G41/G53/G53/G49/G43/G20/G45/G54/G45/G58/G54/G53/G20/G53/G45/G52/G49/G45/G53\\n/G41/G6C/G6C/G61/G6E/G64/G61/G6C/G65 /G4F/G6E/G6C/G69/G6E/G65\\n/G50/G75/G62/G6C/G69/G73/G68/G69/G6E/G67\\nEbooks offer a wonderful opportunity for authors, stu-\\ndents and institutions alike. By using new technologyand maintaining strict editorial standards throughout,Allandale Online Publishing is able to offer intellectu-ally rigorous publications that are accessible 24 hoursa day. The benefits include:\\n· specialist editors drawn from a pool of experienced\\nacademics· a competitive pricing policy· an ISBN for every publication· password-protection to prevent copyright abuse andplagiarism· ebooks available in multiple formats\\nCompile your own searchable elibrary by using\\nAllandale PDF ebooks and enjoy all the benefits ofelectronic text.\"),\n",
              " Document(page_content='are no fixes duties assigned to officers and men, and\\nthe ranks are formed in a slovenly haphazard manner,the result is utter disorganization.\\n19. When a general, unable to estimate the enemy’s\\nstrength, allows an inferior force to engage a largerone, or hurls a weak detachment against a powerfulone, and neglects to place picked soldiers in the frontrank, the result must be rout.\\n20. These are six ways of courting defeat, which must\\nbe carefully noted by the general who has attained aresponsible post.\\n21. The natural formation of the country is the soldier’s\\nbest ally; but a power of estimating the adversary, ofcontrolling the forces of victory, and of shrewdly cal-culating difficulties, dangers and distances, constitutesthe test of a great general.\\n22. He who knows these things, and in fighting puts his\\nknowledge into practice, will win his battles. He whoknows them not, nor practices them, will surely bedefeated.\\n23. If fighting is sure to result in victory, then you must\\nfight, even though the ruler forbid it; if fighting will notresult in victory, then you must not fight even at theruler’s bidding.\\n43\\n/G53/G75/G6E/G20/G54/G7A/G75/G20/G6F/G6E/G20/G74/G68/G65/G20/G41/G72/G74/G20/G6F/G66/G20/G57/G61/G72\\n\\n24. The general who advances without coveting fame\\nand retreats without fearing disgrace, whose onlythought is to protect his country and do good servicefor his sovereign, is the jewel of the kingdom.\\n25. Regard your soldiers as your children, and they will\\nfollow you into the deepest valleys; look upon them asyour own beloved sons, and they will stand by youeven unto death.\\n26. If, however, you are indulgent, but unable to make\\nyour authority felt; kind-hearted, but unable to enforceyour commands; and incapable, moreover, of quellingdisorder: then your soldiers must be likened to spoiltchildren; they are useless for any practical purpose.\\n27. If we know that our own men are in a condition to\\nattack, but are unaware that the enemy is not open toattack, we have gone only halfway towards victory.\\n28. If we know that the enemy is open to attack, but are\\nunaware that our own men are not in a condition toattack, we have gone only halfway towards victory.\\n29. If we know that the enemy is open to attack, and\\nalso know that our men are in a condition to attack, butare unaware that the nature of the ground makes fight-ing impracticable, we have still gone only halfwaytowards victory.\\n44\\n/G53/G75/G6E/G20/G54/G7A/G75/G20/G6F/G6E/G20/G74/G68/G65/G20/G41/G72/G74/G20/G6F/G66/G20/G57/G61/G72\\n\\n30. Hence the experienced soldier, once in motion, is\\nnever bewildered; once he has broken camp, he isnever at a loss.\\n31. Hence the saying:  If you know the enemy and\\nknow yourself, your victory will not stand in doubt; ifyou know Heaven and know Earth, you may make yourvictory complete.\\n45\\n/G53/G75/G6E/G20/G54/G7A/G75/G20/G6F/G6E/G20/G74/G68/G65/G20/G41/G72/G74/G20/G6F/G66/G20/G57/G61/G72\\n\\nXI \\n/G54/G68/G65/G20/G4E/G69/G6E/G65/G20/G53/G69/G74/G75/G61/G74/G69/G6F/G6E/G73\\n1.Sun Tzu said: The art of war recognizes nine vari-\\neties of ground:\\n(1) Dispersive ground; (2) facile ground; (3) contentious ground;(4) open ground; (5) ground of intersecting highways;(6) serious ground; (7) difficult ground; (8) hemmed-in ground;(9) desperate ground.\\n2. When a chieftain is fighting in his own territory, it is\\ndispersive ground.\\n3. When he has penetrated into hostile territory, but to\\nno great distance, it is facile ground.\\n4. Ground the possession of which imports great\\nadvantage to either side, is contentious ground.\\n5. Ground on which each side has liberty of movement\\nis open ground.\\n6. Ground which forms the key to three contiguous\\nstates, so that he who occupies it first has most of the\\n46\\n/G53/G75/G6E/G20/G54/G7A/G75/G20/G6F/G6E/G20/G74/G68/G65/G20/G41/G72/G74/G20/G6F/G66/G20/G57/G61/G72\\n\\nEmpire at his command, is a ground of intersecting\\nhighways.\\n7. When an army has penetrated into the heart of a hos-\\ntile country, leaving a number of fortified cities in itsrear, it is serious ground.\\n8. Mountain forests, rugged steeps, marshes and fens—\\nall country that is hard to traverse: this is difficultground.\\n9. Ground which is reached through narrow gorges,\\nand from which we can only retire by tortuous paths sothat a small number of the enemy would suffice tocrush a large body of our men:  this is hemmed inground.\\n10. Ground on which we can only be saved from\\ndestruction by fighting without delay, is desperateground.\\n11. On dispersive ground, therefore, fight not. On facile\\nground, halt not. On contentious ground, attack not.\\n12. On open ground, do not try to block the enemy’s\\nway. On the ground of intersecting highways, joinhands with your allies.\\n13. On serious ground, gather in plunder. In difficult\\nground, keep steadily on the march.\\n47\\n/G53/G75/G6E/G20/G54/G7A/G75/G20/G6F/G6E/G20/G74/G68/G65/G20/G41/G72/G74/G20/G6F/G66/G20/G57/G61/G72\\n\\n14. On hemmed-in ground, resort to stratagem. On des-\\nperate ground, fight.\\n15. Those who were called skillful leaders of old knew\\nhow to drive a wedge between the enemy’s front andrear; to prevent co-operation between his large andsmall divisions; to hinder the good troops from rescu-ing the bad, the officers from rallying their men.\\n16. When the enemy’s men were united, they managed\\nto keep them in disorder.\\n17. When it was to their advantage, they made a for-\\nward move; when otherwise, they stopped still.\\n18. If asked how to cope with a great host of the enemy\\nin orderly array and on the point of marching to theattack, I should say: “Begin by seizing somethingwhich your opponent holds dear; then he will beamenable to your will.”\\n19. Rapidity is the essence of war:  take advantage of\\nthe enemy’s unreadiness, make your way by unexpect-ed routes, and attack unguarded spots.\\n20. The following are the principles to be observed by\\nan invading force: The further you penetrate into acountry, the greater will be the solidarity of yourtroops, and thus the defenders will not prevail againstyou.\\n48\\n/G53/G75/G6E/G20/G54/G7A/G75/G20/G6F/G6E/G20/G74/G68/G65/G20/G41/G72/G74/G20/G6F/G66/G20/G57/G61/G72\\n\\n21. Make forays in fertile country in order to supply\\nyour army with food.\\n22. Carefully study the well-being of your men, and do\\nnot overtax them. Concentrate your energy and hoardyour strength. Keep your army continually on themove, and devise unfathomable plans.\\n23. Throw your soldiers into positions whence there is\\nno escape, and they will prefer death to flight. If theywill face death, there is nothing they may not achieve.Officers and men alike will put forth their uttermoststrength.\\n24. Soldiers wheen in desperate straits lose the sense of\\nfear. If there is no place of refuge, they will stand firm.If they are in hostile country, they will show a stubbornfront. If there is no help for it, they will fight hard.\\n25. Thus, without waiting to be marshaled, the soldiers\\nwill be constantly on the qui vive; without waiting tobe asked, they will do your will; without restrictions,they will be faithful; without giving orders, they can betrusted.\\n26. Prohibit the taking of omens, and do away with\\nsuperstitious doubts. Then, until death itself comes, nocalamity need be feared.\\n27. If our soldiers are not overburdened with money, it\\nis not because they have a distaste for riches; if their\\n49\\n/G53/G75/G6E/G20/G54/G7A/G75/G20/G6F/G6E/G20/G74/G68/G65/G20/G41/G72/G74/G20/G6F/G66/G20/G57/G61/G72\\n\\nlives are not unduly long, it is not because they are dis-\\ninclined to longevity.\\n28. On the day they are ordered out to battle, your sol-\\ndiers may weep, those sitting up bedewing their gar-ments, and those lying down letting the tears run downtheir cheeks. But let them once be brought to bay, andthey will display the courage of a Chu or a Kuei.\\n29. The skillful tactician may be likened to the shuai-\\njan. Now the shuai-jan is a snake that is found in theChUng mountains. Strike at its head, and you will beattacked by its tail; strike at its tail, and you will beattacked by its head; strike at its middle, and you willbe attacked by head and tail both.\\n30. Asked if an army can be made to imitate the shuai-\\njan, I should answer, Yes. For the men of Wu and themen of Yueh are enemies; yet if they are crossing ariver in the same boat and are caught by a storm, theywill come to each other’s assistance just as the left handhelps the right.\\n31. Hence it is not enough to put one’s trust in the teth-\\nering of horses, and the burying of chariot wheels in theground\\n32. The principle on which to manage an army is to set\\nup one standard of courage which all must reach.\\n50\\n/G53/G75/G6E/G20/G54/G7A/G75/G20/G6F/G6E/G20/G74/G68/G65/G20/G41/G72/G74/G20/G6F/G66/G20/G57/G61/G72\\n\\n33. How to make the best of both strong and weak—\\nthat is a question involving the proper use of ground.\\n34. Thus the skillful general conducts his army just as\\nthough he were leading a single man, willy-nilly, by thehand.\\n35. It is the business of a general to be quiet and thus\\nensure secrecy; upright and just, and thus maintainorder.\\n36. He must be able to mystify his officers and men by\\nfalse reports and appearances, and thus keep them intotal ignorance.\\n37. By altering his arrangements and changing his\\nplans, he keeps the enemy without definite knowledge.By shifting his camp and taking circuitous routes, heprevents the enemy from anticipating his purpose.\\n38. At the critical moment, the leader of an army acts\\nlike one who has climbed up a height and then kicksaway the ladder behind him. He carries his men deepinto hostile territory before he shows his hand.\\n39. He burns his boats and breaks his cooking-pots;\\nlike a shepherd driving a flock of sheep, he drives hismen this way and that, and nothing knows whither heis going.\\n51\\n/G53/G75/G6E/G20/G54/G7A/G75/G20/G6F/G6E/G20/G74/G68/G65/G20/G41/G72/G74/G20/G6F/G66/G20/G57/G61/G72'),\n",
              " Document(page_content='are no fixes duties assigned to officers and men, and\\nthe ranks are formed in a slovenly haphazard manner,the result is utter disorganization.\\n19. When a general, unable to estimate the enemy’s\\nstrength, allows an inferior force to engage a largerone, or hurls a weak detachment against a powerfulone, and neglects to place picked soldiers in the frontrank, the result must be rout.\\n20. These are six ways of courting defeat, which must\\nbe carefully noted by the general who has attained aresponsible post.\\n21. The natural formation of the country is the soldier’s\\nbest ally; but a power of estimating the adversary, ofcontrolling the forces of victory, and of shrewdly cal-culating difficulties, dangers and distances, constitutesthe test of a great general.\\n22. He who knows these things, and in fighting puts his\\nknowledge into practice, will win his battles. He whoknows them not, nor practices them, will surely bedefeated.\\n23. If fighting is sure to result in victory, then you must\\nfight, even though the ruler forbid it; if fighting will notresult in victory, then you must not fight even at theruler’s bidding.\\n43\\n/G53/G75/G6E/G20/G54/G7A/G75/G20/G6F/G6E/G20/G74/G68/G65/G20/G41/G72/G74/G20/G6F/G66/G20/G57/G61/G72\\n\\n24. The general who advances without coveting fame\\nand retreats without fearing disgrace, whose onlythought is to protect his country and do good servicefor his sovereign, is the jewel of the kingdom.\\n25. Regard your soldiers as your children, and they will\\nfollow you into the deepest valleys; look upon them asyour own beloved sons, and they will stand by youeven unto death.\\n26. If, however, you are indulgent, but unable to make\\nyour authority felt; kind-hearted, but unable to enforceyour commands; and incapable, moreover, of quellingdisorder: then your soldiers must be likened to spoiltchildren; they are useless for any practical purpose.\\n27. If we know that our own men are in a condition to\\nattack, but are unaware that the enemy is not open toattack, we have gone only halfway towards victory.\\n28. If we know that the enemy is open to attack, but are\\nunaware that our own men are not in a condition toattack, we have gone only halfway towards victory.\\n29. If we know that the enemy is open to attack, and\\nalso know that our men are in a condition to attack, butare unaware that the nature of the ground makes fight-ing impracticable, we have still gone only halfwaytowards victory.\\n44\\n/G53/G75/G6E/G20/G54/G7A/G75/G20/G6F/G6E/G20/G74/G68/G65/G20/G41/G72/G74/G20/G6F/G66/G20/G57/G61/G72\\n\\n30. Hence the experienced soldier, once in motion, is\\nnever bewildered; once he has broken camp, he isnever at a loss.\\n31. Hence the saying:  If you know the enemy and\\nknow yourself, your victory will not stand in doubt; ifyou know Heaven and know Earth, you may make yourvictory complete.\\n45\\n/G53/G75/G6E/G20/G54/G7A/G75/G20/G6F/G6E/G20/G74/G68/G65/G20/G41/G72/G74/G20/G6F/G66/G20/G57/G61/G72\\n\\nXI \\n/G54/G68/G65/G20/G4E/G69/G6E/G65/G20/G53/G69/G74/G75/G61/G74/G69/G6F/G6E/G73\\n1.Sun Tzu said: The art of war recognizes nine vari-\\neties of ground:\\n(1) Dispersive ground; (2) facile ground; (3) contentious ground;(4) open ground; (5) ground of intersecting highways;(6) serious ground; (7) difficult ground; (8) hemmed-in ground;(9) desperate ground.\\n2. When a chieftain is fighting in his own territory, it is\\ndispersive ground.\\n3. When he has penetrated into hostile territory, but to\\nno great distance, it is facile ground.\\n4. Ground the possession of which imports great\\nadvantage to either side, is contentious ground.\\n5. Ground on which each side has liberty of movement\\nis open ground.\\n6. Ground which forms the key to three contiguous\\nstates, so that he who occupies it first has most of the\\n46\\n/G53/G75/G6E/G20/G54/G7A/G75/G20/G6F/G6E/G20/G74/G68/G65/G20/G41/G72/G74/G20/G6F/G66/G20/G57/G61/G72\\n\\nEmpire at his command, is a ground of intersecting\\nhighways.\\n7. When an army has penetrated into the heart of a hos-\\ntile country, leaving a number of fortified cities in itsrear, it is serious ground.\\n8. Mountain forests, rugged steeps, marshes and fens—\\nall country that is hard to traverse: this is difficultground.\\n9. Ground which is reached through narrow gorges,\\nand from which we can only retire by tortuous paths sothat a small number of the enemy would suffice tocrush a large body of our men:  this is hemmed inground.\\n10. Ground on which we can only be saved from\\ndestruction by fighting without delay, is desperateground.\\n11. On dispersive ground, therefore, fight not. On facile\\nground, halt not. On contentious ground, attack not.\\n12. On open ground, do not try to block the enemy’s\\nway. On the ground of intersecting highways, joinhands with your allies.\\n13. On serious ground, gather in plunder. In difficult\\nground, keep steadily on the march.\\n47\\n/G53/G75/G6E/G20/G54/G7A/G75/G20/G6F/G6E/G20/G74/G68/G65/G20/G41/G72/G74/G20/G6F/G66/G20/G57/G61/G72\\n\\n14. On hemmed-in ground, resort to stratagem. On des-\\nperate ground, fight.\\n15. Those who were called skillful leaders of old knew\\nhow to drive a wedge between the enemy’s front andrear; to prevent co-operation between his large andsmall divisions; to hinder the good troops from rescu-ing the bad, the officers from rallying their men.\\n16. When the enemy’s men were united, they managed\\nto keep them in disorder.\\n17. When it was to their advantage, they made a for-\\nward move; when otherwise, they stopped still.\\n18. If asked how to cope with a great host of the enemy\\nin orderly array and on the point of marching to theattack, I should say: “Begin by seizing somethingwhich your opponent holds dear; then he will beamenable to your will.”\\n19. Rapidity is the essence of war:  take advantage of\\nthe enemy’s unreadiness, make your way by unexpect-ed routes, and attack unguarded spots.\\n20. The following are the principles to be observed by\\nan invading force: The further you penetrate into acountry, the greater will be the solidarity of yourtroops, and thus the defenders will not prevail againstyou.\\n48\\n/G53/G75/G6E/G20/G54/G7A/G75/G20/G6F/G6E/G20/G74/G68/G65/G20/G41/G72/G74/G20/G6F/G66/G20/G57/G61/G72\\n\\n21. Make forays in fertile country in order to supply\\nyour army with food.\\n22. Carefully study the well-being of your men, and do\\nnot overtax them. Concentrate your energy and hoardyour strength. Keep your army continually on themove, and devise unfathomable plans.\\n23. Throw your soldiers into positions whence there is\\nno escape, and they will prefer death to flight. If theywill face death, there is nothing they may not achieve.Officers and men alike will put forth their uttermoststrength.\\n24. Soldiers wheen in desperate straits lose the sense of\\nfear. If there is no place of refuge, they will stand firm.If they are in hostile country, they will show a stubbornfront. If there is no help for it, they will fight hard.\\n25. Thus, without waiting to be marshaled, the soldiers\\nwill be constantly on the qui vive; without waiting tobe asked, they will do your will; without restrictions,they will be faithful; without giving orders, they can betrusted.\\n26. Prohibit the taking of omens, and do away with\\nsuperstitious doubts. Then, until death itself comes, nocalamity need be feared.\\n27. If our soldiers are not overburdened with money, it\\nis not because they have a distaste for riches; if their\\n49\\n/G53/G75/G6E/G20/G54/G7A/G75/G20/G6F/G6E/G20/G74/G68/G65/G20/G41/G72/G74/G20/G6F/G66/G20/G57/G61/G72\\n\\nlives are not unduly long, it is not because they are dis-\\ninclined to longevity.\\n28. On the day they are ordered out to battle, your sol-\\ndiers may weep, those sitting up bedewing their gar-ments, and those lying down letting the tears run downtheir cheeks. But let them once be brought to bay, andthey will display the courage of a Chu or a Kuei.\\n29. The skillful tactician may be likened to the shuai-\\njan. Now the shuai-jan is a snake that is found in theChUng mountains. Strike at its head, and you will beattacked by its tail; strike at its tail, and you will beattacked by its head; strike at its middle, and you willbe attacked by head and tail both.\\n30. Asked if an army can be made to imitate the shuai-\\njan, I should answer, Yes. For the men of Wu and themen of Yueh are enemies; yet if they are crossing ariver in the same boat and are caught by a storm, theywill come to each other’s assistance just as the left handhelps the right.\\n31. Hence it is not enough to put one’s trust in the teth-\\nering of horses, and the burying of chariot wheels in theground\\n32. The principle on which to manage an army is to set\\nup one standard of courage which all must reach.\\n50\\n/G53/G75/G6E/G20/G54/G7A/G75/G20/G6F/G6E/G20/G74/G68/G65/G20/G41/G72/G74/G20/G6F/G66/G20/G57/G61/G72\\n\\n33. How to make the best of both strong and weak—\\nthat is a question involving the proper use of ground.\\n34. Thus the skillful general conducts his army just as\\nthough he were leading a single man, willy-nilly, by thehand.\\n35. It is the business of a general to be quiet and thus\\nensure secrecy; upright and just, and thus maintainorder.\\n36. He must be able to mystify his officers and men by\\nfalse reports and appearances, and thus keep them intotal ignorance.\\n37. By altering his arrangements and changing his\\nplans, he keeps the enemy without definite knowledge.By shifting his camp and taking circuitous routes, heprevents the enemy from anticipating his purpose.\\n38. At the critical moment, the leader of an army acts\\nlike one who has climbed up a height and then kicksaway the ladder behind him. He carries his men deepinto hostile territory before he shows his hand.\\n39. He burns his boats and breaks his cooking-pots;\\nlike a shepherd driving a flock of sheep, he drives hismen this way and that, and nothing knows whither heis going.\\n51\\n/G53/G75/G6E/G20/G54/G7A/G75/G20/G6F/G6E/G20/G74/G68/G65/G20/G41/G72/G74/G20/G6F/G66/G20/G57/G61/G72'),\n",
              " Document(page_content='/G53/G75/G6E/G20/G54/G7A/G75/G20/G6F/G6E/G20/G74/G68/G65/G20\\n/G41/G72/G74/G20/G6F/G66/G20/G57/G61/G72\\nTHE OLDEST MILITARY TREATISE IN THE WORLD\\n/G41/G6C/G6C/G61/G6E/G64/G61/G6C/G65 /G4F/G6E/G6C/G69/G6E/G65\\n/G50/G75/G62/G6C/G69/G73/G68/G69/G6E/G67/G43/G6C/G61/G73/G73/G69/G63/G20/G45/G74/G65/G78/G74/G73/G20/G53/G65/G72/G69/G65/G73\\n\\n/G53/G75/G6E/G20/G54/G7A/G75/G20/G6F/G6E/G20/G74/G68/G65/G20\\n/G41/G72/G74/G20/G6F/G66/G20/G57/G61/G72\\nTHE OLDEST MILI TARY TREATISE IN THE WORLD\\nTranslated from the Chinese\\nBy LIONEL GILES, M.A. (1910)\\nPublished by\\nAllandale Online Publishing\\n2 Park House, 21 St Leonards Rd, \\nLeicester LE2 1WS, England\\nPublished 2000\\nThe Classic Etexts Series is made up of manuscripts available in the\\nPublic Domain, all of which are out of copyright. The Series was origi-\\nnated to aid the distribution of these etexts in multiple formats and to\\nhighlight the benefits of PDF Ebooks. They are freely distributable with\\nno payment required.\\nAllandale Online Publishing ebooks are distributed on an ‘as is’ basis\\nwithout warranty. While every precaution has been taken in the prepara-\\ntion of these products, neither the authors nor Allandale Online\\nPublishing, shall have any liability to any person or entity with respect to\\nany loss or damage caused by or alleged to be caused directly or indirectly\\nby the instructions contained in this product . Any dispute arising between\\nAllandale Online Publishing and the purchasing institution shall be con-\\nstrued under the laws of theUnited Kingdom.\\nISBN 1-903328-03-9\\n\\nCONTENTS\\nI:/G4C/G61/G79/G69/G6E/G67/G20/G50/G6C/G61/G6E/G73 /G31\\nII:/G57/G61/G67/G69/G6E/G67/G20/G57/G61/G72 /G35\\nIII:/G41/G74/G74/G61/G63/G6B/G20/G62/G79/G20/G53/G74/G72/G61/G74/G61/G67/G65/G6D /G38\\nIV:/G54/G61/G63/G74/G69/G63/G61/G6C/G20/G64/G69/G73/G70/G6F/G73/G69/G74/G69/G6F/G6E/G73 /G31/G32\\nV:/G45/G6E/G65/G72/G67/G79 /G31/G35\\nVI:/G57/G65/G61/G6B/G20/G50/G6F/G69/G6E/G74/G73/G20/G61/G6E/G64/G20/G53/G74/G72/G6F/G6E/G67 /G31/G39\\nVII:/G4D/G61/G6E/G65/G75/G76/G65/G72/G69/G6E/G67 /G32/G35\\nVIII:/G56/G61/G72/G69/G61/G74/G69/G6F/G6E/G20/G69/G6E/G20/G54/G61/G63/G74/G69/G63/G73 /G33/G30\\nIX:/G54/G68/G65/G20/G41/G72/G6D/G79/G20/G6F/G6E/G20/G74/G68/G65/G20/G4D/G61/G72/G63/G68 /G33/G33\\nX:/G54/G65/G72/G72/G61/G69/G6E /G34/G30\\nXI:/G54/G68/G65/G20/G4E/G69/G6E/G65/G20/G53/G69/G74/G75/G61/G74/G69/G6F/G6E/G73 /G34/G36\\nXII:/G54/G68/G65/G20/G41/G74/G74/G61/G63/G6B/G20/G62/G79/G20/G46._/G69/G72/G65 /G35/G36\\nXIII:/G54/G68/G65/G20/G55/G73/G65/G20/G6F/G66/G20/G53/G70/G69/G65/G73 /G35/G39\\n\\nI\\n/G4C/G61/G79/G69/G6E/G67/G20/G50/G6C/G61/G6E/G73\\n1.Sun Tzu said : The art of war is of vital importanceto\\nthe State.\\n2. It is a matter of life and death, a road either to safe-\\nty or to ruin. Hence it is a subject of inquiry which canon no account be neglected.\\n3. The art of war, then, is governed by five\\nconstantfactors, to be taken into account in one’s delib-erations, when seeking to determine the conditionsobtaining in the field.\\n4. These are: \\n(1) The Moral Law; (2) Heaven; (3) Earth; (4) The Commander; (5) Method and discipline.\\n5,6. The Moral Law causes the people to be in com-\\nplete accord with their ruler, so that they will followhim regardless of their lives, undismayed by any dan-ger.\\n7. Heaven signifies night and day, cold and heat, times\\nand seasons.\\n1\\n/G53/G75/G6E/G20/G54/G7A/G75/G20/G6F/G6E/G20/G74/G68/G65/G20/G41/G72/G74/G20/G6F/G66/G20/G57/G61/G72\\n\\n8. Earth comprises distances, great and small; danger\\nand security; open ground and narrow passes; thechances of life and death.\\n9. The Commander stands for the virtues of\\nwisdom, sincerely, benevolence, courage and strict-ness.\\n10. By method and discipline are to be understood the\\nmarshaling of the army in its proper subdivisions, thegraduations of rank among the officers, the mainte-nance of roads by which supplies may reach the army,and the control of military expenditure.\\n11. These five heads should be familiar to every gener-\\nal: he who knows them will be victorious; he whoknows them not will fail.\\n12. Therefore, in your deliberations, when seeking to\\ndetermine the military conditions, let them be madethebasis of a comparison, in this wise:—\\n13. (1) Which of the two sovereigns is imbuedwith the\\nMoral law?\\n(2) Which of the two generals has most ability? (3) With whom lie the advantages derived fromHeaven and Earth?(4) On which side is discipline most rigorouslyenforced?(5) Which army is stronger?\\n2\\n/G53/G75/G6E/G20/G54/G7A/G75/G20/G6F/G6E/G20/G74/G68/G65/G20/G41/G72/G74/G20/G6F/G66/G20/G57/G61/G72\\n\\n(6) On which side are officers and men more high-\\nly trained?(7) In which army is there the greaterconstancy both in reward and punishment?\\n14. By means of these seven considerations I can fore-\\ncast victory or defeat.\\n15. The general that hearkens to my counsel and\\nactsupon it, will conquer:  let such a one be retained incommand! The general that hearkens not to my coun-sel nor acts upon it, will suffer defeat:—let such a onebe dismissed!\\n16. While heading the profit of my counsel,avail your-\\nself also of any helpful circumstances over and beyondthe ordinary rules.\\n17. According as circumstances are favorable, one\\nshould modify one’s plans.\\n18. All warfare is based on deception.\\n19. Hence, when able to attack, we must seem\\nunable; when using our forces, we must seem inactive;when weare near, we must make the enemy believe weare far away; when far away, we must make himbelieve we are near.\\n20. Hold out baits to entice the enemy. Feign disor-\\nder, and crush him.\\n3\\n/G53/G75/G6E/G20/G54/G7A/G75/G20/G6F/G6E/G20/G74/G68/G65/G20/G41/G72/G74/G20/G6F/G66/G20/G57/G61/G72\\n\\n21. If he is secure at all points, be prepared for him. If\\nhe is in superior strength, evade him.\\n22. If your opponent is of choleric temper, seek to irri-\\ntate him. Pretend to be weak, that he may grow arro-gant.\\n23. If he is taking his ease, give him no rest. If his\\nforces are united, separate them.\\n24. Attack him where he is unprepared, appear\\nwhere you are not expected.\\n25. These military devices, leading to victory,must not\\nbe divulged beforehand.\\n26. Now the general who wins a battle makes\\nmanycalculations in his temple ere the battle is fought.The general who loses a battle makes but few calcula-tions beforehand. Thus do many calculations lead tovictory, and few calculations to defeat: how much moreno calculation at all! It is by attention to this point thatI can foresee who is likely to win or lose.\\n4\\n/G53/G75/G6E/G20/G54/G7A/G75/G20/G6F/G6E/G20/G74/G68/G65/G20/G41/G72/G74/G20/G6F/G66/G20/G57/G61/G72\\n\\nII \\n/G57/G61/G67/G69/G6E/G67/G20/G57/G61/G72\\n1.Sun Tzu said :In the operations of war, where there\\nare in the field a thousand swift chariots, as manyheavy chariots, and a hundred thousand mail-clad sol-diers, with provisions enough to carry them a thousandli, the expenditure at home and at the front, includingentertainment of guests, small items such as glue andpaint, and sums spent on chariots and armor,will reachthe total of a thousand ounces of silver per day. Suchis the cost of raising an army of 100,000 men.\\n2. When you engage in actual fighting, if victory is\\nlong in coming, then men’s weapons will grow dull andtheir ardor will be damped. If you lay siege to a town,you will exhaust your strength.\\n3. Again, if the campaign is protracted, the resources of\\nthe State will not be equal to the strain.\\n4. Now, when your weapons are dulled, your ardor\\ndamped, your strength exhausted and your treasurespent, other chieftains will spring up to take advantageof your extremity. Then no man, however wise, will beable to avert the consequences that must ensue.\\n5. Thus, though we have heard of stupid haste in war,\\ncleverness has never been seen associated with longdelays.\\n5\\n/G53/G75/G6E/G20/G54/G7A/G75/G20/G6F/G6E/G20/G74/G68/G65/G20/G41/G72/G74/G20/G6F/G66/G20/G57/G61/G72\\n\\n6. There is no instance of a country having benefited\\nfrom prolonged warfare.\\n7. It is only one who is thoroughly acquainted with the\\nevils of war that can thoroughly understand the prof-itable way of carrying it on.\\n8. The skillful soldier does not raise a second levy, nei-\\nther are his supply-wagons loaded more than twice.\\n9. Bring war material with you from home, but forage\\non the enemy. Thus the army will have food enough forits needs.\\n10. Poverty of the State exchequer causes an army to be\\nmaintained by contributions from a distance.Contributing to maintain an army at a distance causesthe people to be impoverished.\\n11. On the other hand, the proximity of an army caus-\\nes prices to go up; and high prices cause the people’ssubstance to be drained away.\\n12. When their substance is drained away, the peas-\\nantry will be afflicted by heavy exactions.\\n13,14. With this loss of substance and exhaustion of\\nstrength, the homes of the people will be stripped bare,and three-tenths of their income will be dissipated;while government expenses for broken chariots, worn-out horses, breast-plates and helmets, bows and arrows,\\n6\\n/G53/G75/G6E/G20/G54/G7A/G75/G20/G6F/G6E/G20/G74/G68/G65/G20/G41/G72/G74/G20/G6F/G66/G20/G57/G61/G72')]"
            ]
          },
          "metadata": {},
          "execution_count": 63
        }
      ],
      "source": [
        "result[\"source_documents\"]"
      ]
    },
    {
      "cell_type": "code",
      "execution_count": 64,
      "metadata": {
        "id": "TGFjxwzcUb02"
      },
      "outputs": [],
      "source": [
        "template = \"\"\"Use the following pieces of context to answer the question at the end. If you don't know the answer, try to make up an answer. Keep the answer as concise as possible. Always say \"thanks for asking!\" at the end of the answer.\n",
        "{context}\n",
        "Question: {question}\n",
        "Helpful Answer:\"\"\"\n",
        "QA_CHAIN_PROMPT = PromptTemplate.from_template(template)# Run chain\n",
        "qa_chain = RetrievalQA.from_chain_type(\n",
        "    model,\n",
        "    retriever=vector_index,\n",
        "    return_source_documents=True,\n",
        "    chain_type_kwargs={\"prompt\": QA_CHAIN_PROMPT}\n",
        ")\n"
      ]
    },
    {
      "cell_type": "code",
      "execution_count": 65,
      "metadata": {
        "colab": {
          "base_uri": "https://localhost:8080/",
          "height": 35
        },
        "id": "og-CJ7iaMYJe",
        "outputId": "a73a0816-8dd1-4153-fd6d-b83e363d45ba"
      },
      "outputs": [
        {
          "output_type": "execute_result",
          "data": {
            "text/plain": [
              "'Vital to the state, a matter of life and death. Thanks for asking!'"
            ],
            "application/vnd.google.colaboratory.intrinsic+json": {
              "type": "string"
            }
          },
          "metadata": {},
          "execution_count": 65
        }
      ],
      "source": [
        "question = \"Describe the art of war in 5 words?\"\n",
        "result = qa_chain({\"query\": question})\n",
        "result[\"result\"]"
      ]
    },
    {
      "cell_type": "code",
      "execution_count": 66,
      "metadata": {
        "colab": {
          "base_uri": "https://localhost:8080/",
          "height": 46
        },
        "id": "BwZpAwFWMbor",
        "outputId": "4634fd1e-7cd0-4b97-8320-861af14fab49"
      },
      "outputs": [
        {
          "output_type": "execute_result",
          "data": {
            "text/plain": [
              "<IPython.core.display.Markdown object>"
            ],
            "text/markdown": "Vital to the state, a matter of life and death. Thanks for asking!"
          },
          "metadata": {},
          "execution_count": 66
        }
      ],
      "source": [
        "Markdown(result[\"result\"])"
      ]
    },
    {
      "cell_type": "code",
      "execution_count": 67,
      "metadata": {
        "colab": {
          "base_uri": "https://localhost:8080/",
          "height": 46
        },
        "id": "CFNBXo0kJKkA",
        "outputId": "103e0568-8e85-4e2a-eec3-97cec0f22585"
      },
      "outputs": [
        {
          "output_type": "execute_result",
          "data": {
            "text/plain": [
              "<IPython.core.display.Markdown object>"
            ],
            "text/markdown": "Tactics should be varied based on the circumstances. Thanks for asking!"
          },
          "metadata": {},
          "execution_count": 67
        }
      ],
      "source": [
        "question = \"Summarize variations in tactics?\"\n",
        "result = qa_chain({\"query\": question})\n",
        "Markdown(result[\"result\"])"
      ]
    },
    {
      "cell_type": "code",
      "source": [
        "question = \"What can you derive in real modern human life from the above summary of variation in tactics?\"\n",
        "result = qa_chain({\"query\": question})\n",
        "Markdown(result[\"result\"])"
      ],
      "metadata": {
        "colab": {
          "base_uri": "https://localhost:8080/",
          "height": 219
        },
        "id": "P0UruX-0Ugzw",
        "outputId": "39dbf04e-7a4e-4efb-9d43-f4d23436cb72"
      },
      "execution_count": 68,
      "outputs": [
        {
          "output_type": "execute_result",
          "data": {
            "text/plain": [
              "<IPython.core.display.Markdown object>"
            ],
            "text/markdown": "From the summary of variation in tactics, we can derive the following principles that can be applied to real modern human life:\n\n1. **Be adaptable.** The best course of action will vary depending on the circumstances. Be prepared to change your plans as needed.\n2. **Don't be afraid to take risks.** Sometimes, the best way to achieve your goals is to take a risk. Don't be afraid to step outside of your comfort zone.\n3. **Be creative.** There is often more than one way to achieve a goal. Be creative in your thinking and come up with new solutions to problems.\n4. **Be persistent.** Don't give up easily. If you keep working at it, you will eventually achieve your goals.\n5. **Be patient.** Good things take time. Don't expect to achieve your goals overnight. Be patient and persistent, and you will eventually succeed.\n\nThese principles can be applied to any area of life, from business to relationships to personal growth. By following these principles, you can increase your chances of success in whatever you do.\n\nThanks for asking!"
          },
          "metadata": {},
          "execution_count": 68
        }
      ]
    }
  ],
  "metadata": {
    "colab": {
      "provenance": [],
      "include_colab_link": true
    },
    "kernelspec": {
      "display_name": "Python 3 (ipykernel)",
      "language": "python",
      "name": "python3"
    },
    "language_info": {
      "codemirror_mode": {
        "name": "ipython",
        "version": 3
      },
      "file_extension": ".py",
      "mimetype": "text/x-python",
      "name": "python",
      "nbconvert_exporter": "python",
      "pygments_lexer": "ipython3",
      "version": "3.9.12"
    }
  },
  "nbformat": 4,
  "nbformat_minor": 0
}
